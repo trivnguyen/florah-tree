{
 "cells": [
  {
   "cell_type": "code",
   "execution_count": 337,
   "metadata": {},
   "outputs": [
    {
     "name": "stdout",
     "output_type": "stream",
     "text": [
      "/mnt/home/tnguyen/projects/florah/florah-tree\n",
      "The autoreload extension is already loaded. To reload it, use:\n",
      "  %reload_ext autoreload\n"
     ]
    }
   ],
   "source": [
    "%cd /mnt/home/tnguyen/projects/florah/florah-tree\n",
    "%load_ext autoreload\n",
    "%autoreload 2\n",
    "\n",
    "import os\n",
    "import h5py\n",
    "import pickle\n",
    "import time\n",
    "from pathlib import Path\n",
    "\n",
    "import numpy as np\n",
    "import networkx as nx\n",
    "import torch\n",
    "import torch.nn as nn\n",
    "import pytorch_lightning as pl\n",
    "import pytorch_lightning.loggers as pl_loggers\n",
    "import torch_geometric\n",
    "from torch_geometric.utils import from_networkx, to_networkx\n",
    "from torch_geometric.data import Data\n",
    "from torch_geometric.loader import DataLoader\n",
    "from ml_collections import config_dict\n",
    "\n",
    "from florah_analysis import tree_utils, utils\n",
    "\n",
    "from models import training_utils, models, models_utils, flows_utils\n",
    "from models import generator"
   ]
  },
  {
   "cell_type": "code",
   "execution_count": 2,
   "metadata": {},
   "outputs": [],
   "source": [
    "def prepare_dataloader(\n",
    "    data, train_frac=0.8, batch_size=1024, num_workers=1,\n",
    "    norm_dict=None):\n",
    "\n",
    "    num_total = len(data)\n",
    "    num_train = int(num_total * train_frac)\n",
    "\n",
    "    np.random.shuffle(data)\n",
    "\n",
    "    # calculate the normaliziation statistics\n",
    "    x = torch.cat([d.x for d in data[:num_train]])\n",
    "    if norm_dict is None:\n",
    "        x_loc = x.mean(dim=0)\n",
    "        x_scale = x.std(dim=0)\n",
    "        norm_dict = {\n",
    "            \"x_loc\": list(x_loc.numpy()),\n",
    "            \"x_scale\": list(x_scale.numpy()),\n",
    "        }\n",
    "    else:\n",
    "        x_loc = torch.tensor(norm_dict[\"x_loc\"], dtype=torch.float)\n",
    "        x_scale = torch.tensor(norm_dict[\"x_scale\"], dtype=torch.float)\n",
    "    for d in data:\n",
    "        d.x = (d.x - x_loc) / x_scale\n",
    "\n",
    "    train_loader = DataLoader(\n",
    "        data[:num_train], batch_size=batch_size, shuffle=True, \n",
    "        num_workers=num_workers, pin_memory=True)\n",
    "    val_loader = DataLoader(\n",
    "        data[num_train:], batch_size=batch_size, shuffle=False, \n",
    "        num_workers=num_workers, pin_memory=True)\n",
    "\n",
    "    return train_loader, val_loader, norm_dict"
   ]
  },
  {
   "cell_type": "code",
   "execution_count": 4,
   "metadata": {},
   "outputs": [
    {
     "name": "stderr",
     "output_type": "stream",
     "text": [
      "/mnt/home/tnguyen/miniconda3/envs/geometric/lib/python3.11/site-packages/torch_geometric/utils/convert.py:249: UserWarning: Creating a tensor from a list of numpy.ndarrays is extremely slow. Please consider converting the list to a single numpy.ndarray with numpy.array() before converting to a tensor. (Triggered internally at ../torch/csrc/utils/tensor_new.cpp:245.)\n",
      "  data[key] = torch.tensor(value)\n"
     ]
    }
   ],
   "source": [
    "# Fake config \n",
    "config = config_dict.ConfigDict()\n",
    "config.workdir = './logging/'\n",
    "config.name = 'GUREFT05-Nanc1.transfGenerator'\n",
    "\n",
    "# Read in the model\n",
    "device = torch.device('cuda' if torch.cuda.is_available() else 'cpu')\n",
    "checkpoint_path = \"/mnt/home/tnguyen/projects/florah/florah-tree/\"\\\n",
    "    \"logging/GUREFT05-Nanc1.transfGenerator/version_0/checkpoints/epoch=137-step=43056.ckpt\"\n",
    "model = generator.TreeGenerator.load_from_checkpoint(\n",
    "    checkpoint_path, map_location=device)\n",
    "norm_dict = model.norm_dict\n",
    "\n",
    "# Read in the dataset\n",
    "dset_path = '/mnt/ceph/users/tnguyen/florah/datasets/experiments/GUREFT05-Nanc1.debug.pkl'\n",
    "with open(dset_path, 'rb') as f:\n",
    "    data = pickle.load(f)\n",
    "\n",
    "# convert networkx to pytorch geometric\n",
    "data_pyg = [from_networkx(d) for d in data]\n",
    "train_loader, val_loader, norm_dict = prepare_dataloader(\n",
    "    data_pyg, batch_size=1, norm_dict=norm_dict)\n",
    "batch = next(iter(train_loader))"
   ]
  },
  {
   "cell_type": "code",
   "execution_count": 316,
   "metadata": {},
   "outputs": [],
   "source": [
    "def generate_tree(\n",
    "    model, root_halo_feat, t_out, n_max_iter=1000, norm_dict=None):\n",
    "    \"\"\"Generate a tree from a root halo feature vector. \n",
    "    Assume root_halo_feat and t_out are already normalized.\n",
    "    \"\"\"\n",
    "    # create list of output times\n",
    "    if not isinstance(t_out, torch.Tensor):\n",
    "        t_out = torch.tensor(t_out, dtype=torch.float32)\n",
    "    t_out = t_out.to(device)\n",
    "\n",
    "    if not isinstance(root_halo_feat, torch.Tensor):\n",
    "        root_halo_feat = torch.tensor(root_halo_feat, dtype=torch.float32)\n",
    "    root_halo_feat = root_halo_feat.to(device)\n",
    "    root_halo_feat = torch.cat([root_halo_feat, t_out[0].unsqueeze(0)])\n",
    "\n",
    "    # initialize the tree\n",
    "    halo_t_index = [0]\n",
    "    halo_index = [0]\n",
    "    halo_remain_index = [0]  # index of the remining halos to be processed\n",
    "    next_halo_index = 1\n",
    "    halo_feats = torch.stack([root_halo_feat], dim=0)\n",
    "    edge_index= [[], []]  # keep edge index as a list to make appending easier\n",
    "    next_halo_index = 1\n",
    "\n",
    "    model.eval()\n",
    "    with torch.no_grad():\n",
    "        while (len(halo_remain_index) > 0) & (n_max_iter > 0):\n",
    "            halo_curr_index = halo_remain_index.pop(0)\n",
    "            halo_curr_t_index = halo_t_index.pop(0)\n",
    "            if halo_curr_t_index == len(t_out) - 1:\n",
    "                # reach the last snapshot\n",
    "                continue\n",
    "            t_next = t_out[halo_curr_t_index + 1]\n",
    "            t_next = t_next.unsqueeze(0).unsqueeze(0)  # add batch and feature dim\n",
    "\n",
    "            # input features\n",
    "            path = training_utils.find_path_from_root(\n",
    "                torch.tensor(edge_index, dtype=torch.long),\n",
    "                halo_curr_index)\n",
    "            x_feat = model.featurizer(halo_feats[path].unsqueeze(0)) # add batch dim\n",
    "            t_proj = model.time_proj_layer(t_next)\n",
    "\n",
    "            # randomly sample the number of progenitors\n",
    "            x_classifier = torch.cat((x_feat, t_proj), dim=1)\n",
    "            yhat = model.classifier(x_classifier).softmax(dim=1)\n",
    "            num_progs = torch.multinomial(yhat, 1) + 1\n",
    "            num_progs = num_progs.item()\n",
    "\n",
    "            # list of progenitors, including the zeros starting token\n",
    "            x_progs = torch.zeros((1, num_progs + 1, 2), device=device)\n",
    "            t_proj_progs = t_proj.unsqueeze(1).repeat(1, num_progs + 1, 1)\n",
    "\n",
    "            for i_prog in range(num_progs):\n",
    "                n_prog_curr = i_prog + 1  # number of progenitors at current step\n",
    "\n",
    "                lengths = torch.tensor([n_prog_curr], dtype=torch.long)\n",
    "                f_proj = model.feat_proj_layer(x_progs)\n",
    "\n",
    "                # run the RNN to extract the context\n",
    "                x_rnn = torch.cat([f_proj, t_proj_progs], dim=-1)\n",
    "                x_rnn = model.rnn(x_rnn, lengths=lengths)\n",
    "\n",
    "                # # sample from the flow\n",
    "                flow_context = torch.cat(\n",
    "                    [x_rnn, x_feat.unsqueeze(1).repeat(1, n_prog_curr, 1)], dim=-1)\n",
    "                flow_context = flow_context[:, -1]  # only take the last time step\n",
    "                x_prog_curr = model.flows.sample(1, context=flow_context)\n",
    "\n",
    "                # append to the list of progenitors\n",
    "                x_progs[:, i_prog + 1] = x_prog_curr\n",
    "            x_progs = x_progs[:, 1:]  # remove the zeros starting token]\n",
    "\n",
    "            # add the progenitors to the list of halos\n",
    "            x_progs = torch.cat([x_progs, t_next.repeat(1, num_progs, 1)], dim=-1)\n",
    "            x_progs = x_progs.squeeze(0)  # remove the batch dim\n",
    "            halo_feats = torch.cat([halo_feats, x_progs], dim=0)\n",
    "\n",
    "            # create halo index for the progneitors\n",
    "            prog_index = [next_halo_index + i for i in range(num_progs)]\n",
    "            halo_index = halo_index + prog_index\n",
    "            halo_remain_index = halo_remain_index + prog_index\n",
    "            halo_t_index = halo_t_index + [halo_curr_t_index + 1] * num_progs\n",
    "\n",
    "            # create edge index for the progenitors\n",
    "            edge_index[0] = edge_index[0] + [halo_curr_index] * num_progs\n",
    "            edge_index[1] = edge_index[1] + prog_index\n",
    "            next_halo_index += num_progs\n",
    "\n",
    "            n_max_iter -= 1\n",
    "            if n_max_iter == 0:\n",
    "                print('Max number of iterations reached')\n",
    "\n",
    "    data = Data(x=halo_feats, edge_index=torch.tensor(edge_index, dtype=torch.long))\n",
    "\n",
    "    if norm_dict is not None:\n",
    "        x_loc_norm = torch.tensor(\n",
    "            norm_dict['x_loc'], dtype=torch.float32, device=device)\n",
    "        x_scale_norm = torch.tensor(\n",
    "            norm_dict['x_scale'], dtype=torch.float32, device=device)\n",
    "        data.x = data.x * x_scale_norm + x_loc_norm\n",
    "\n",
    "    return data"
   ]
  },
  {
   "cell_type": "code",
   "execution_count": 360,
   "metadata": {},
   "outputs": [],
   "source": [
    "snaps, aexp_snaps, z_snaps = utils.read_snapshot_times('GUREFT05')\n",
    "num_snap_max = np.where(z_snaps > 10)[0][0]\n",
    "step = 2\n",
    "aexp_out = aexp_snaps[:num_snap_max:step]\n",
    "x_loc_norm = torch.tensor(norm_dict['x_loc'], dtype=torch.float32)\n",
    "x_scale_norm = torch.tensor(norm_dict['x_scale'], dtype=torch.float32)\n",
    "\n",
    "# create list of output times\n",
    "t_out = torch.tensor(aexp_out, dtype=torch.float32)\n",
    "t_out = (t_out - x_loc_norm[-1]) / x_scale_norm[-1]"
   ]
  },
  {
   "cell_type": "code",
   "execution_count": 368,
   "metadata": {},
   "outputs": [
    {
     "name": "stderr",
     "output_type": "stream",
     "text": [
      "/mnt/home/tnguyen/miniconda3/envs/geometric/lib/python3.11/site-packages/networkx/drawing/nx_pylab.py:304: UserWarning: \n",
      "\n",
      "The arrowsize keyword argument is not applicable when drawing edges\n",
      "with LineCollection.\n",
      "\n",
      "To make this warning go away, either specify `arrows=True` to\n",
      "force FancyArrowPatches or use the default value for arrowsize.\n",
      "Note that using FancyArrowPatches may be slow for large graphs.\n",
      "\n",
      "  draw_networkx_edges(G, pos, arrows=arrows, **edge_kwds)\n"
     ]
    },
    {
     "data": {
      "image/png": "[encoded data removed]",
      "text/plain": [
       "<Figure size 800x800 with 1 Axes>"
      ]
     },
     "metadata": {},
     "output_type": "display_data"
    },
    {
     "data": {
      "text/plain": [
       "(<Figure size 800x800 with 1 Axes>,\n",
       " <Axes: title={'center': 'Merger Tree Graph'}>)"
      ]
     },
     "execution_count": 368,
     "metadata": {},
     "output_type": "execute_result"
    }
   ],
   "source": [
    "# get an initial mass and concentration\n",
    "root_halo_feat = batch.x[8][:-1]\n",
    "data = generate_tree(model, root_halo_feat, t_out, norm_dict=norm_dict)\n",
    "data = data.cpu()\n",
    "\n",
    "# convert to a networkx graph manually since the to_networkx method is not working\n",
    "# for some reason\n",
    "G = nx.Graph()\n",
    "G.add_nodes_from(range(len(data.x)))\n",
    "G.add_edges_from(data.edge_index.T.numpy())\n",
    "for i in range(len(data.x)):\n",
    "    G.nodes[i]['x'] = data.x[i].numpy()\n",
    "\n",
    "tree_utils.plot_graph(G)"
   ]
  }
 ],
 "metadata": {
  "kernelspec": {
   "display_name": "geometric",
   "language": "python",
   "name": "python3"
  },
  "language_info": {
   "codemirror_mode": {
    "name": "ipython",
    "version": 3
   },
   "file_extension": ".py",
   "mimetype": "text/x-python",
   "name": "python",
   "nbconvert_exporter": "python",
   "pygments_lexer": "ipython3",
   "version": "3.11.4"
  },
  "orig_nbformat": 4
 },
 "nbformat": 4,
 "nbformat_minor": 2
}
